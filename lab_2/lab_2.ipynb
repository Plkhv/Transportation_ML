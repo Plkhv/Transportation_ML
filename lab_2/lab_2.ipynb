{
 "cells": [
  {
   "cell_type": "code",
   "execution_count": 1,
   "id": "09e50b5f",
   "metadata": {},
   "outputs": [
    {
     "name": "stdout",
     "output_type": "stream",
     "text": [
      "Jupyter environment detected. Enabling Open3D WebVisualizer.\n",
      "[Open3D INFO] WebRTC GUI backend enabled.\n",
      "[Open3D INFO] WebRTCWindowSystem: HTTP handshake server disabled.\n"
     ]
    },
    {
     "data": {
      "text/plain": [
       "<LasData(1.2, point fmt: <PointFormat(3, 0 bytes of extra dims)>, 1626300 points, 0 vlrs)>"
      ]
     },
     "execution_count": 1,
     "metadata": {},
     "output_type": "execute_result"
    }
   ],
   "source": [
    "import laspy\n",
    "import numpy as np\n",
    "import open3d as o3d\n",
    "las = laspy.read(\"KU_002.las\")\n",
    "las"
   ]
  },
  {
   "cell_type": "code",
   "execution_count": 3,
   "id": "3598bfed",
   "metadata": {},
   "outputs": [
    {
     "data": {
      "text/plain": [
       "['X',\n",
       " 'Y',\n",
       " 'Z',\n",
       " 'intensity',\n",
       " 'return_number',\n",
       " 'number_of_returns',\n",
       " 'scan_direction_flag',\n",
       " 'edge_of_flight_line',\n",
       " 'classification',\n",
       " 'synthetic',\n",
       " 'key_point',\n",
       " 'withheld',\n",
       " 'scan_angle_rank',\n",
       " 'user_data',\n",
       " 'point_source_id',\n",
       " 'gps_time',\n",
       " 'red',\n",
       " 'green',\n",
       " 'blue']"
      ]
     },
     "execution_count": 3,
     "metadata": {},
     "output_type": "execute_result"
    }
   ],
   "source": [
    "list(las.point_format.dimension_names)"
   ]
  },
  {
   "cell_type": "code",
   "execution_count": 4,
   "id": "dfb11ebd",
   "metadata": {},
   "outputs": [
    {
     "name": "stdout",
     "output_type": "stream",
     "text": [
      "1626300\n"
     ]
    },
    {
     "data": {
      "text/plain": [
       "array([[ 57149762, 887867522,      3353],\n",
       "       [ 57149969, 887867784,      3336],\n",
       "       [ 57149999, 887867749,      3342],\n",
       "       ...,\n",
       "       [ 57132668, 887850097,      3611],\n",
       "       [ 57132490, 887850117,      3624],\n",
       "       [ 57132208, 887850126,      3698]], shape=(1626300, 3), dtype=int32)"
      ]
     },
     "execution_count": 4,
     "metadata": {},
     "output_type": "execute_result"
    }
   ],
   "source": [
    "point_data = np.stack([las.X, las.Y, las.Z], axis=0).transpose((1, 0))\n",
    "print(len(point_data))\n",
    "point_data"
   ]
  },
  {
   "cell_type": "code",
   "execution_count": 5,
   "id": "dd214419",
   "metadata": {},
   "outputs": [
    {
     "name": "stdout",
     "output_type": "stream",
     "text": [
      "[Open3D WARNING] GLFW Error: WGL: Failed to make context current: Требуемая операция преобразования не поддерживается. \n",
      "[Open3D WARNING] GLFW Error: WGL: Failed to make context current: Требуемая операция преобразования не поддерживается. \n"
     ]
    }
   ],
   "source": [
    "geom = o3d.geometry.PointCloud()\n",
    "geom.points = o3d.utility.Vector3dVector(point_data)\n",
    "o3d.visualization.draw_geometries([geom])"
   ]
  },
  {
   "cell_type": "code",
   "execution_count": null,
   "id": "b8542931",
   "metadata": {},
   "outputs": [],
   "source": [
    "\t"
   ]
  }
 ],
 "metadata": {
  "kernelspec": {
   "display_name": "Python 3",
   "language": "python",
   "name": "python3"
  },
  "language_info": {
   "codemirror_mode": {
    "name": "ipython",
    "version": 3
   },
   "file_extension": ".py",
   "mimetype": "text/x-python",
   "name": "python",
   "nbconvert_exporter": "python",
   "pygments_lexer": "ipython3",
   "version": "3.11.9"
  }
 },
 "nbformat": 4,
 "nbformat_minor": 5
}
